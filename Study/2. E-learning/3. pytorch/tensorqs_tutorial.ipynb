{
  "cells": [
    {
      "cell_type": "code",
      "execution_count": 1,
      "metadata": {
        "id": "1MpOJ0mntiHL"
      },
      "outputs": [],
      "source": [
        "# Google Colab에서 노트북을 실행하실 때에는\n",
        "# https://tutorials.pytorch.kr/beginner/colab 를 참고하세요.\n",
        "%matplotlib inline"
      ]
    },
    {
      "cell_type": "markdown",
      "metadata": {
        "id": "gdCQweYntiHN"
      },
      "source": [
        "\n",
        "[파이토치(PyTorch) 기본 익히기](intro.html) ||\n",
        "[빠른 시작](quickstart_tutorial.html) ||\n",
        "**텐서(Tensor)** ||\n",
        "[Dataset과 Dataloader](data_tutorial.html) ||\n",
        "[변형(Transform)](transforms_tutorial.html) ||\n",
        "[신경망 모델 구성하기](buildmodel_tutorial.html) ||\n",
        "[Autograd](autogradqs_tutorial.html) ||\n",
        "[최적화(Optimization)](optimization_tutorial.html) ||\n",
        "[모델 저장하고 불러오기](saveloadrun_tutorial.html)\n",
        "\n",
        "# 텐서(Tensor)\n",
        "\n",
        "텐서(tensor)는 배열(array)이나 행렬(matrix)과 매우 유사한 특수한 자료구조입니다.\n",
        "PyTorch에서는 텐서를 사용하여 모델의 입력(input)과 출력(output), 그리고 모델의 매개변수들을 부호화(encode)합니다.\n",
        "\n",
        "텐서는 GPU나 다른 하드웨어 가속기에서 실행할 수 있다는 점만 제외하면 [NumPy](https://numpy.org) 의 ndarray와 유사합니다.\n",
        "실제로 텐서와 NumPy 배열(array)은 종종 동일한 내부(underly) 메모리를 공유할 수 있어 데이터를 복사할 필요가 없습니다. (`bridge-to-np-label` 참고)\n",
        "텐서는 또한 ([Autograd](autogradqs_tutorial.html)_ 장에서 살펴볼) 자동 미분(automatic differentiation)에 최적화되어 있습니다.\n",
        "ndarray에 익숙하다면 Tensor API를 바로 사용할 수 있을 것입니다. 아니라면, 아래 내용을 함께 보시죠!\n"
      ]
    },
    {
      "cell_type": "code",
      "execution_count": 2,
      "metadata": {
        "id": "hOs4KkaYtiHP"
      },
      "outputs": [],
      "source": [
        "import torch\n",
        "import numpy as np"
      ]
    },
    {
      "cell_type": "markdown",
      "metadata": {
        "id": "qtyN0ocCtiHP"
      },
      "source": [
        "## 텐서(tensor) 초기화\n",
        "\n",
        "텐서는 여러가지 방법으로 초기화할 수 있습니다. 다음 예를 살펴보세요:\n",
        "\n",
        "**데이터로부터 직접(directly) 생성하기**\n",
        "\n",
        "데이터로부터 직접 텐서를 생성할 수 있습니다. 데이터의 자료형(data type)은 자동으로 유추합니다.\n",
        "\n"
      ]
    },
    {
      "cell_type": "code",
      "execution_count": 3,
      "metadata": {
        "id": "NSYThQD3tiHQ"
      },
      "outputs": [],
      "source": [
        "data = [[1, 2],[3, 4]]\n",
        "x_data = torch.tensor(data)"
      ]
    },
    {
      "cell_type": "code",
      "source": [
        "print(data)\n",
        "print(type(data))\n",
        "print(type(x_data))\n",
        "print(x_data.dtype)"
      ],
      "metadata": {
        "id": "SL-aCuhbtws8",
        "outputId": "812002d0-f44c-479e-d972-c870a54e729a",
        "colab": {
          "base_uri": "https://localhost:8080/"
        }
      },
      "execution_count": 10,
      "outputs": [
        {
          "output_type": "stream",
          "name": "stdout",
          "text": [
            "[[1, 2], [3, 4]]\n",
            "<class 'list'>\n",
            "<class 'torch.Tensor'>\n",
            "torch.int64\n"
          ]
        }
      ]
    },
    {
      "cell_type": "markdown",
      "metadata": {
        "id": "Nvk1j1FhtiHQ"
      },
      "source": [
        "**NumPy 배열로부터 생성하기**\n",
        "\n",
        "텐서는 NumPy 배열로 생성할 수 있습니다. (그 반대도 가능합니다 - `bridge-to-np-label` 참고)\n",
        "\n"
      ]
    },
    {
      "cell_type": "code",
      "execution_count": 8,
      "metadata": {
        "id": "cEI6LGNqtiHQ"
      },
      "outputs": [],
      "source": [
        "np_array = np.array(data)\n",
        "x_np = torch.from_numpy(np_array)"
      ]
    },
    {
      "cell_type": "code",
      "source": [
        "print(np_array)\n",
        "print(x_np)\n",
        "print(type(np_array))\n",
        "print(type(x_np))\n",
        "print(np_array.dtype)\n",
        "print(x_np.dtype)"
      ],
      "metadata": {
        "id": "KZFmS2D-vYux",
        "outputId": "66fdcef6-872a-4888-ef34-a56d0ee371bf",
        "colab": {
          "base_uri": "https://localhost:8080/"
        }
      },
      "execution_count": 9,
      "outputs": [
        {
          "output_type": "stream",
          "name": "stdout",
          "text": [
            "[[1 2]\n",
            " [3 4]]\n",
            "tensor([[1, 2],\n",
            "        [3, 4]])\n",
            "<class 'numpy.ndarray'>\n",
            "<class 'torch.Tensor'>\n",
            "int64\n",
            "torch.int64\n"
          ]
        }
      ]
    },
    {
      "cell_type": "markdown",
      "metadata": {
        "id": "E8fdZf4ztiHQ"
      },
      "source": [
        "**다른 텐서로부터 생성하기:**\n",
        "\n",
        "명시적으로 재정의(override)하지 않는다면, 인자로 주어진 텐서의 속성(모양(shape), 자료형(datatype))을 유지합니다.\n",
        "\n"
      ]
    },
    {
      "cell_type": "code",
      "execution_count": 11,
      "metadata": {
        "id": "aKh1DCqotiHQ",
        "outputId": "f0164ba5-b72c-438a-e367-86f5aa6b65e6",
        "colab": {
          "base_uri": "https://localhost:8080/"
        }
      },
      "outputs": [
        {
          "output_type": "stream",
          "name": "stdout",
          "text": [
            "Ones Tensor: \n",
            " tensor([[1, 1],\n",
            "        [1, 1]]) \n",
            "\n",
            "torch.int64\n",
            "Random Tensor: \n",
            " tensor([[0.1388, 0.0296],\n",
            "        [0.5767, 0.1610]]) \n",
            "\n",
            "torch.float32\n"
          ]
        }
      ],
      "source": [
        "x_ones = torch.ones_like(x_data) # x_data의 속성을 유지합니다.\n",
        "print(f\"Ones Tensor: \\n {x_ones} \\n\")\n",
        "print(x_ones.dtype)\n",
        "\n",
        "x_rand = torch.rand_like(x_data, dtype=torch.float) # x_data의 속성을 덮어씁니다.\n",
        "print(f\"Random Tensor: \\n {x_rand} \\n\")\n",
        "print(x_rand.dtype)"
      ]
    },
    {
      "cell_type": "markdown",
      "metadata": {
        "id": "yUFOk9L4tiHQ"
      },
      "source": [
        "**무작위(random) 또는 상수(constant) 값을 사용하기:**\n",
        "\n",
        "``shape`` 은 텐서의 차원(dimension)을 나타내는 튜플(tuple)로, 아래 함수들에서는 출력 텐서의 차원을 결정합니다.\n",
        "\n"
      ]
    },
    {
      "cell_type": "code",
      "execution_count": 14,
      "metadata": {
        "id": "DXwOwVjPtiHR",
        "outputId": "b97a5c80-690e-4b21-ff16-9ea9bf489c6a",
        "colab": {
          "base_uri": "https://localhost:8080/"
        }
      },
      "outputs": [
        {
          "output_type": "stream",
          "name": "stdout",
          "text": [
            "Random Tensor: \n",
            " tensor([[0.8384, 0.8611, 0.2739],\n",
            "        [0.3000, 0.8846, 0.8033]]) \n",
            "\n",
            "Ones Tensor: \n",
            " tensor([[1., 1., 1.],\n",
            "        [1., 1., 1.]]) \n",
            "\n",
            "Zeros Tensor: \n",
            " tensor([[0., 0., 0.],\n",
            "        [0., 0., 0.]])\n"
          ]
        }
      ],
      "source": [
        "shape = (2,3,)\n",
        "rand_tensor = torch.rand(shape)\n",
        "ones_tensor = torch.ones(shape)\n",
        "zeros_tensor = torch.zeros(shape)\n",
        "\n",
        "print(f\"Random Tensor: \\n {rand_tensor} \\n\")\n",
        "print(f\"Ones Tensor: \\n {ones_tensor} \\n\")\n",
        "print(f\"Zeros Tensor: \\n {zeros_tensor}\")"
      ]
    },
    {
      "cell_type": "markdown",
      "metadata": {
        "id": "bw_8wOg9tiHR"
      },
      "source": [
        "--------------\n",
        "\n",
        "\n"
      ]
    },
    {
      "cell_type": "markdown",
      "metadata": {
        "id": "tFZILypitiHS"
      },
      "source": [
        "## 텐서의 속성(Attribute)\n",
        "\n",
        "텐서의 속성은 텐서의 모양(shape), 자료형(datatype) 및 어느 장치에 저장되는지를 나타냅니다.\n",
        "\n"
      ]
    },
    {
      "cell_type": "code",
      "execution_count": 15,
      "metadata": {
        "id": "bAlIOXGitiHS",
        "outputId": "29093165-d480-4ee8-8058-27dd3bf343b0",
        "colab": {
          "base_uri": "https://localhost:8080/"
        }
      },
      "outputs": [
        {
          "output_type": "stream",
          "name": "stdout",
          "text": [
            "Shape of tensor: torch.Size([3, 4])\n",
            "Datatype of tensor: torch.float32\n",
            "Device tensor is stored on: cpu\n"
          ]
        }
      ],
      "source": [
        "tensor = torch.rand(3,4)\n",
        "\n",
        "print(f\"Shape of tensor: {tensor.shape}\")\n",
        "print(f\"Datatype of tensor: {tensor.dtype}\")\n",
        "print(f\"Device tensor is stored on: {tensor.device}\")"
      ]
    },
    {
      "cell_type": "markdown",
      "metadata": {
        "id": "bz36LMlftiHS"
      },
      "source": [
        "--------------\n",
        "\n",
        "\n"
      ]
    },
    {
      "cell_type": "markdown",
      "metadata": {
        "id": "8kN666OftiHS"
      },
      "source": [
        "## 텐서 연산(Operation)\n",
        "\n",
        "전치(transposing), 인덱싱(indexing), 슬라이싱(slicing), 수학 계산, 선형 대수,\n",
        "임의 샘플링(random sampling) 등, 100가지 이상의 텐서 연산들을\n",
        "[여기](https://pytorch.org/docs/stable/torch.html)_ 에서 확인할 수 있습니다.\n",
        "\n",
        "각 연산들은 (일반적으로 CPU보다 빠른) GPU에서 실행할 수 있습니다. Colab을 사용한다면,\n",
        "Edit > Notebook Settings 에서 GPU를 할당할 수 있습니다.\n",
        "\n",
        "기본적으로 텐서는 CPU에 생성됩니다. ``.to`` 메소드를 사용하면 (GPU의 가용성(availability)을 확인한 뒤)\n",
        "GPU로 텐서를 명시적으로 이동할 수 있습니다. 장치들 간에 큰 텐서들을 복사하는 것은 시간과 메모리 측면에서 비용이\n",
        "많이든다는 것을 기억하세요!\n",
        "\n"
      ]
    },
    {
      "cell_type": "code",
      "execution_count": 16,
      "metadata": {
        "id": "YmE5a88TtiHT"
      },
      "outputs": [],
      "source": [
        "# GPU가 존재하면 텐서를 이동합니다\n",
        "if torch.cuda.is_available():\n",
        "    tensor = tensor.to(\"cuda\")"
      ]
    },
    {
      "cell_type": "markdown",
      "metadata": {
        "id": "HyBDhxFMtiHT"
      },
      "source": [
        "목록에서 몇몇 연산들을 시도해보세요.\n",
        "NumPy API에 익숙하다면 Tensor API를 사용하는 것은 식은 죽 먹기라는 것을 알게 되실 겁니다.\n",
        "\n",
        "\n"
      ]
    },
    {
      "cell_type": "markdown",
      "metadata": {
        "id": "Cv5Ob_MJtiHT"
      },
      "source": [
        "**NumPy식의 표준 인덱싱과 슬라이싱:**\n",
        "\n"
      ]
    },
    {
      "cell_type": "code",
      "execution_count": 17,
      "metadata": {
        "id": "YYj2J-zYtiHT",
        "outputId": "36a85789-4685-4262-e58d-22bc23373ad4",
        "colab": {
          "base_uri": "https://localhost:8080/"
        }
      },
      "outputs": [
        {
          "output_type": "stream",
          "name": "stdout",
          "text": [
            "First row: tensor([1., 1., 1., 1.])\n",
            "First column: tensor([1., 1., 1., 1.])\n",
            "Last column: tensor([1., 1., 1., 1.])\n",
            "tensor([[1., 0., 1., 1.],\n",
            "        [1., 0., 1., 1.],\n",
            "        [1., 0., 1., 1.],\n",
            "        [1., 0., 1., 1.]])\n"
          ]
        }
      ],
      "source": [
        "tensor = torch.ones(4, 4)\n",
        "print(f\"First row: {tensor[0]}\")\n",
        "print(f\"First column: {tensor[:, 0]}\")\n",
        "print(f\"Last column: {tensor[..., -1]}\")\n",
        "tensor[:,1] = 0\n",
        "print(tensor)"
      ]
    },
    {
      "cell_type": "markdown",
      "metadata": {
        "id": "PJX1eosjtiHT"
      },
      "source": [
        "\n",
        "**텐서 합치기** ``torch.cat`` 을 사용하여 주어진 차원에 따라 일련의 텐서를 연결할 수 있습니다.\n",
        "``torch.cat`` 과 미묘하게 다른 또 다른 텐서 결합 연산인\n",
        "[torch.stack](https://pytorch.org/docs/stable/generated/torch.stack.html)_ 도 참고해보세요.\n",
        "\n"
      ]
    },
    {
      "cell_type": "code",
      "execution_count": 30,
      "metadata": {
        "id": "acpdnLwKtiHT",
        "outputId": "d956cbc2-caf5-47ea-dec2-b9fd23e9140f",
        "colab": {
          "base_uri": "https://localhost:8080/"
        }
      },
      "outputs": [
        {
          "output_type": "stream",
          "name": "stdout",
          "text": [
            "torch.Size([2, 4])\n",
            "tensor([[1., 2., 3., 4.],\n",
            "        [5., 6., 7., 8.]])\n",
            "torch.Size([2, 12])\n",
            "tensor([[1., 2., 3., 4., 1., 2., 3., 4., 1., 2., 3., 4.],\n",
            "        [5., 6., 7., 8., 5., 6., 7., 8., 5., 6., 7., 8.]])\n",
            "torch.Size([3, 2, 4])\n",
            "tensor([[[1., 2., 3., 4.],\n",
            "         [5., 6., 7., 8.]],\n",
            "\n",
            "        [[1., 2., 3., 4.],\n",
            "         [5., 6., 7., 8.]],\n",
            "\n",
            "        [[1., 2., 3., 4.],\n",
            "         [5., 6., 7., 8.]]])\n",
            "torch.Size([2, 3, 4])\n",
            "tensor([[[1., 2., 3., 4.],\n",
            "         [1., 2., 3., 4.],\n",
            "         [1., 2., 3., 4.]],\n",
            "\n",
            "        [[5., 6., 7., 8.],\n",
            "         [5., 6., 7., 8.],\n",
            "         [5., 6., 7., 8.]]])\n",
            "torch.Size([2, 4, 3])\n",
            "tensor([[[1., 1., 1.],\n",
            "         [2., 2., 2.],\n",
            "         [3., 3., 3.],\n",
            "         [4., 4., 4.]],\n",
            "\n",
            "        [[5., 5., 5.],\n",
            "         [6., 6., 6.],\n",
            "         [7., 7., 7.],\n",
            "         [8., 8., 8.]]])\n"
          ]
        }
      ],
      "source": [
        "tensor = [[1., 2., 3., 4.], [5., 6., 7., 8.]]\n",
        "tensor = torch.tensor(tensor)\n",
        "\n",
        "print(tensor.shape)\n",
        "print(tensor)\n",
        "\n",
        "t1 = torch.cat([tensor, tensor, tensor], dim=1)\n",
        "print(t1.shape)\n",
        "print(t1)\n",
        "\n",
        "t2 = torch.stack([tensor, tensor, tensor], dim=0)\n",
        "print(t2.shape)\n",
        "print(t2)\n",
        "\n",
        "t3 = torch.stack([tensor, tensor, tensor], dim=1)\n",
        "print(t3.shape)\n",
        "print(t3)\n",
        "\n",
        "t4 = torch.stack([tensor, tensor, tensor], dim=2)\n",
        "print(t4.shape)\n",
        "print(t4)\n"
      ]
    },
    {
      "cell_type": "markdown",
      "metadata": {
        "id": "A1UhH0GHtiHU"
      },
      "source": [
        "**산술 연산(Arithmetic operations)**\n",
        "\n"
      ]
    },
    {
      "cell_type": "code",
      "execution_count": 31,
      "metadata": {
        "id": "aJ7uplEEtiHU",
        "outputId": "c78c1736-ded0-4d15-8a1d-19c504a60f00",
        "colab": {
          "base_uri": "https://localhost:8080/"
        }
      },
      "outputs": [
        {
          "output_type": "stream",
          "name": "stdout",
          "text": [
            "tensor([[ 30.,  70.],\n",
            "        [ 70., 174.]])\n",
            "tensor([[ 30.,  70.],\n",
            "        [ 70., 174.]])\n",
            "tensor([[ 30.,  70.],\n",
            "        [ 70., 174.]])\n"
          ]
        },
        {
          "output_type": "execute_result",
          "data": {
            "text/plain": [
              "tensor([[ 1.,  4.,  9., 16.],\n",
              "        [25., 36., 49., 64.]])"
            ]
          },
          "metadata": {},
          "execution_count": 31
        }
      ],
      "source": [
        "# 두 텐서 간의 행렬 곱(matrix multiplication)을 계산합니다. y1, y2, y3은 모두 같은 값을 갖습니다.\n",
        "# ``tensor.T`` 는 텐서의 전치(transpose)를 반환합니다.\n",
        "y1 = tensor @ tensor.T\n",
        "y2 = tensor.matmul(tensor.T)\n",
        "\n",
        "y3 = torch.rand_like(y1)\n",
        "torch.matmul(tensor, tensor.T, out=y3)\n",
        "print(y1)\n",
        "print(y2)\n",
        "print(y3)\n",
        "\n",
        "\n",
        "# 요소별 곱(element-wise product)을 계산합니다. z1, z2, z3는 모두 같은 값을 갖습니다.\n",
        "z1 = tensor * tensor\n",
        "z2 = tensor.mul(tensor)\n",
        "\n",
        "z3 = torch.rand_like(tensor)\n",
        "torch.mul(tensor, tensor, out=z3)"
      ]
    },
    {
      "cell_type": "markdown",
      "metadata": {
        "id": "0LGTW22XtiHU"
      },
      "source": [
        "**단일-요소(single-element) 텐서** 텐서의 모든 값을 하나로 집계(aggregate)하여 요소가 하나인 텐서의 경우,\n",
        "``item()`` 을 사용하여 Python 숫자 값으로 변환할 수 있습니다:\n",
        "\n"
      ]
    },
    {
      "cell_type": "code",
      "execution_count": 33,
      "metadata": {
        "id": "Vb4oOUL4tiHU",
        "outputId": "7b53fca2-1159-42a6-a709-55b4a4b523e1",
        "colab": {
          "base_uri": "https://localhost:8080/"
        }
      },
      "outputs": [
        {
          "output_type": "stream",
          "name": "stdout",
          "text": [
            "36.0 <class 'float'>\n"
          ]
        }
      ],
      "source": [
        "agg = tensor.sum()\n",
        "agg_item = agg.item()\n",
        "print(agg_item, type(agg_item))"
      ]
    },
    {
      "cell_type": "markdown",
      "metadata": {
        "id": "k2Qz3AA7tiHU"
      },
      "source": [
        "**바꿔치기(in-place) 연산**\n",
        "연산 결과를 피연산자(operand)에 저장하는 연산을 바꿔치기 연산이라고 부르며, ``_`` 접미사를 갖습니다.\n",
        "예를 들어: ``x.copy_(y)`` 나 ``x.t_()`` 는 ``x`` 를 변경합니다.\n",
        "\n"
      ]
    },
    {
      "cell_type": "code",
      "execution_count": 34,
      "metadata": {
        "id": "cTZIpgQ-tiHU",
        "outputId": "0841f191-1ecc-4439-e8f7-c364c137df24",
        "colab": {
          "base_uri": "https://localhost:8080/"
        }
      },
      "outputs": [
        {
          "output_type": "stream",
          "name": "stdout",
          "text": [
            "tensor([[1., 2., 3., 4.],\n",
            "        [5., 6., 7., 8.]]) \n",
            "\n",
            "tensor([[ 6.,  7.,  8.,  9.],\n",
            "        [10., 11., 12., 13.]])\n"
          ]
        }
      ],
      "source": [
        "print(f\"{tensor} \\n\")\n",
        "tensor.add_(5)\n",
        "print(tensor)"
      ]
    },
    {
      "cell_type": "markdown",
      "metadata": {
        "id": "HVzVEsrItiHU"
      },
      "source": [
        "<div class=\"alert alert-info\"><h4>Note</h4><p>바꿔치기 연산은 메모리를 일부 절약하지만, 기록(history)이 즉시 삭제되어 도함수(derivative) 계산에 문제가 발생할 수 있습니다.\n",
        "     따라서, 사용을 권장하지 않습니다.</p></div>\n",
        "\n"
      ]
    },
    {
      "cell_type": "markdown",
      "metadata": {
        "id": "cFDp7avVtiHV"
      },
      "source": [
        "--------------\n",
        "\n",
        "\n"
      ]
    },
    {
      "cell_type": "markdown",
      "metadata": {
        "id": "cjGMn4DwtiHV"
      },
      "source": [
        "\n",
        "## NumPy 변환(Bridge)\n",
        "CPU 상의 텐서와 NumPy 배열은 메모리 공간을 공유하기 때문에, 하나를 변경하면 다른 하나도 변경됩니다.\n",
        "\n"
      ]
    },
    {
      "cell_type": "markdown",
      "metadata": {
        "id": "Za--9TEhtiHV"
      },
      "source": [
        "### 텐서를 NumPy 배열로 변환하기\n",
        "\n"
      ]
    },
    {
      "cell_type": "code",
      "execution_count": 35,
      "metadata": {
        "id": "kmnjeQfbtiHV",
        "outputId": "2471088c-e3c1-4dfb-e21e-477a7abca940",
        "colab": {
          "base_uri": "https://localhost:8080/"
        }
      },
      "outputs": [
        {
          "output_type": "stream",
          "name": "stdout",
          "text": [
            "t: tensor([1., 1., 1., 1., 1.])\n",
            "n: [1. 1. 1. 1. 1.]\n"
          ]
        }
      ],
      "source": [
        "t = torch.ones(5)\n",
        "print(f\"t: {t}\")\n",
        "n = t.numpy()\n",
        "print(f\"n: {n}\")"
      ]
    },
    {
      "cell_type": "markdown",
      "metadata": {
        "id": "Prjusz9_tiHV"
      },
      "source": [
        "텐서의 변경 사항이 NumPy 배열에 반영됩니다.\n",
        "\n"
      ]
    },
    {
      "cell_type": "code",
      "execution_count": 36,
      "metadata": {
        "id": "_k_3Fv6YtiHV",
        "outputId": "076ae821-07d5-4817-be9a-8a55cb00a783",
        "colab": {
          "base_uri": "https://localhost:8080/"
        }
      },
      "outputs": [
        {
          "output_type": "stream",
          "name": "stdout",
          "text": [
            "t: tensor([2., 2., 2., 2., 2.])\n",
            "n: [2. 2. 2. 2. 2.]\n"
          ]
        }
      ],
      "source": [
        "t.add_(1)\n",
        "print(f\"t: {t}\")\n",
        "print(f\"n: {n}\")"
      ]
    },
    {
      "cell_type": "markdown",
      "metadata": {
        "id": "FUEVf7v7tiHW"
      },
      "source": [
        "### NumPy 배열을 텐서로 변환하기\n",
        "\n"
      ]
    },
    {
      "cell_type": "code",
      "execution_count": 37,
      "metadata": {
        "id": "SIZaJTmutiHW"
      },
      "outputs": [],
      "source": [
        "n = np.ones(5)\n",
        "t = torch.from_numpy(n)"
      ]
    },
    {
      "cell_type": "markdown",
      "metadata": {
        "id": "Zqx_oteetiHW"
      },
      "source": [
        "NumPy 배열의 변경 사항이 텐서에 반영됩니다.\n",
        "\n"
      ]
    },
    {
      "cell_type": "code",
      "execution_count": 38,
      "metadata": {
        "id": "D0btXBbdtiHX",
        "outputId": "64ef514d-335c-4ed2-a619-ed8bee4db168",
        "colab": {
          "base_uri": "https://localhost:8080/"
        }
      },
      "outputs": [
        {
          "output_type": "stream",
          "name": "stdout",
          "text": [
            "t: tensor([2., 2., 2., 2., 2.], dtype=torch.float64)\n",
            "n: [2. 2. 2. 2. 2.]\n"
          ]
        }
      ],
      "source": [
        "np.add(n, 1, out=n)\n",
        "print(f\"t: {t}\")\n",
        "print(f\"n: {n}\")"
      ]
    },
    {
      "cell_type": "code",
      "source": [],
      "metadata": {
        "id": "phYKQKK9zVtb"
      },
      "execution_count": null,
      "outputs": []
    }
  ],
  "metadata": {
    "kernelspec": {
      "display_name": "Python 3",
      "language": "python",
      "name": "python3"
    },
    "language_info": {
      "codemirror_mode": {
        "name": "ipython",
        "version": 3
      },
      "file_extension": ".py",
      "mimetype": "text/x-python",
      "name": "python",
      "nbconvert_exporter": "python",
      "pygments_lexer": "ipython3",
      "version": "3.9.16"
    },
    "colab": {
      "provenance": []
    }
  },
  "nbformat": 4,
  "nbformat_minor": 0
}